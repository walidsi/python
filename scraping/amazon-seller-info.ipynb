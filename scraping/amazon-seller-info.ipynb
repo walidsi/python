{
 "cells": [
  {
   "cell_type": "code",
   "execution_count": 1,
   "metadata": {},
   "outputs": [],
   "source": [
    "\n",
    "# Scraping English Premier League standings from Wikipedia using BeautifulSoup\n",
    "import requests\n",
    "from bs4 import BeautifulSoup\n",
    "import pandas as pd"
   ]
  },
  {
   "cell_type": "code",
   "execution_count": 34,
   "metadata": {},
   "outputs": [],
   "source": [
    "url = 'https://www.amazon.com/sp?ie=UTF8&seller=APZB0IDP1EYQW'\n",
    "\n",
    "headers = {\n",
    "    'User-Agent': 'Mozilla/5.0 (Windows NT 6.1) AppleWebKit/537.36 (KHTML, like Gecko) Chrome/41.0.2228.0 Safari/537.36',\n",
    "    'referer': 'https://google.com',\n",
    "    }\n",
    "response = requests.get(url, headers=headers)\n",
    "response.raise_for_status()"
   ]
  },
  {
   "cell_type": "code",
   "execution_count": 36,
   "metadata": {},
   "outputs": [],
   "source": [
    "soup = BeautifulSoup(response.content, 'html')"
   ]
  },
  {
   "cell_type": "code",
   "execution_count": 40,
   "metadata": {},
   "outputs": [
    {
     "data": {
      "text/plain": [
       "<ul class=\"a-unordered-list a-nostyle a-vertical\"><li><span class=\"a-list-item\"><span class=\"a-text-bold\">Business Name:</span>DIRECTTOU</span></li><li><span class=\"a-list-item\"><span class=\"a-text-bold\">Business Address:</span><ul class=\"a-unordered-list a-nostyle a-vertical\"><li><span class=\"a-list-item\">DirectToU LLC</span></li><li><span class=\"a-list-item\">1401 NW 136th Ave</span></li><li><span class=\"a-list-item\">Sunrise</span></li><li><span class=\"a-list-item\">Florida</span></li><li><span class=\"a-list-item\">33323</span></li><li><span class=\"a-list-item\">US</span></li></ul></span></li></ul>"
      ]
     },
     "execution_count": 40,
     "metadata": {},
     "output_type": "execute_result"
    }
   ],
   "source": [
    "ul = soup.find('ul', {'class': 'a-unordered-list a-nostyle a-vertical'})\n",
    "ul"
   ]
  },
  {
   "cell_type": "code",
   "execution_count": 44,
   "metadata": {},
   "outputs": [
    {
     "data": {
      "text/plain": [
       "[<span class=\"a-list-item\"><span class=\"a-text-bold\">Business Name:</span>DIRECTTOU</span>,\n",
       " <span class=\"a-list-item\"><span class=\"a-text-bold\">Business Address:</span><ul class=\"a-unordered-list a-nostyle a-vertical\"><li><span class=\"a-list-item\">DirectToU LLC</span></li><li><span class=\"a-list-item\">1401 NW 136th Ave</span></li><li><span class=\"a-list-item\">Sunrise</span></li><li><span class=\"a-list-item\">Florida</span></li><li><span class=\"a-list-item\">33323</span></li><li><span class=\"a-list-item\">US</span></li></ul></span>,\n",
       " <span class=\"a-list-item\">DirectToU LLC</span>,\n",
       " <span class=\"a-list-item\">1401 NW 136th Ave</span>,\n",
       " <span class=\"a-list-item\">Sunrise</span>,\n",
       " <span class=\"a-list-item\">Florida</span>,\n",
       " <span class=\"a-list-item\">33323</span>,\n",
       " <span class=\"a-list-item\">US</span>]"
      ]
     },
     "execution_count": 44,
     "metadata": {},
     "output_type": "execute_result"
    }
   ],
   "source": [
    "items  = ul.find_all('span', {'class': 'a-list-item'})\n",
    "items"
   ]
  },
  {
   "cell_type": "code",
   "execution_count": 45,
   "metadata": {},
   "outputs": [
    {
     "name": "stdout",
     "output_type": "stream",
     "text": [
      "Business Name:DIRECTTOU\n",
      "Business Address:DirectToU LLC1401 NW 136th AveSunriseFlorida33323US\n",
      "DirectToU LLC\n",
      "1401 NW 136th Ave\n",
      "Sunrise\n",
      "Florida\n",
      "33323\n",
      "US\n"
     ]
    }
   ],
   "source": [
    "for item in items:\n",
    "    print(item.text)"
   ]
  },
  {
   "cell_type": "code",
   "execution_count": null,
   "metadata": {},
   "outputs": [],
   "source": []
  }
 ],
 "metadata": {
  "interpreter": {
   "hash": "4b95e594f19d774e6652a10f889ec6294281d07b2ee52bc69e4c2618cc65953d"
  },
  "kernelspec": {
   "display_name": "Python 3.8.5 ('python38')",
   "language": "python",
   "name": "python3"
  },
  "language_info": {
   "codemirror_mode": {
    "name": "ipython",
    "version": 3
   },
   "file_extension": ".py",
   "mimetype": "text/x-python",
   "name": "python",
   "nbconvert_exporter": "python",
   "pygments_lexer": "ipython3",
   "version": "3.8.5"
  },
  "orig_nbformat": 4
 },
 "nbformat": 4,
 "nbformat_minor": 2
}
